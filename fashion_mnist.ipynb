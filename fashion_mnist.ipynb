{
 "metadata": {
  "language_info": {
   "codemirror_mode": {
    "name": "ipython",
    "version": 3
   },
   "file_extension": ".py",
   "mimetype": "text/x-python",
   "name": "python",
   "nbconvert_exporter": "python",
   "pygments_lexer": "ipython3",
   "version": "3.8.3-final"
  },
  "orig_nbformat": 2,
  "kernelspec": {
   "name": "Python 3.8.3 64-bit ('base': conda)",
   "display_name": "Python 3.8.3 64-bit ('base': conda)",
   "metadata": {
    "interpreter": {
     "hash": "4b5e0c9659983acfd230a96678f044bca10de39ede3ce7f1f5b6376fab845b28"
    }
   }
  }
 },
 "nbformat": 4,
 "nbformat_minor": 2,
 "cells": [
  {
   "cell_type": "code",
   "execution_count": 27,
   "metadata": {},
   "outputs": [],
   "source": [
    "import tensorflow as tf\n",
    "from tensorflow import keras"
   ]
  },
  {
   "cell_type": "code",
   "execution_count": 28,
   "metadata": {},
   "outputs": [],
   "source": [
    "''' Load data.\n",
    "\n",
    "    We will be using Fashion MNIST data.\n",
    "    Fashion MNIST consists of 70,000 items of clothing in 10 different categories. Each item of clothing is in a 28x28 greyscale       image. \n",
    "    Labels will be in number, not in words because:\n",
    "        1. Computers are still better with numbers\n",
    "        2. Issue of Bias. If we label it using English, \n",
    "           then we are showing bias to English.\n",
    "    So by using numbers, we can point to a text description in any language!\n",
    "'''\n",
    "\n",
    "fashion_mnist = keras.datasets.fashion_mnist\n",
    "(train_images, train_labels), (test_images, test_labels) = fashion_mnist.load_data()"
   ]
  },
  {
   "cell_type": "code",
   "execution_count": 31,
   "metadata": {},
   "outputs": [
    {
     "output_type": "execute_result",
     "data": {
      "text/plain": [
       "<matplotlib.image.AxesImage at 0x7ffcf7dbe130>"
      ]
     },
     "metadata": {},
     "execution_count": 31
    },
    {
     "output_type": "display_data",
     "data": {
      "text/plain": "<Figure size 432x288 with 1 Axes>",
      "image/svg+xml": "<?xml version=\"1.0\" encoding=\"utf-8\" standalone=\"no\"?>\n<!DOCTYPE svg PUBLIC \"-//W3C//DTD SVG 1.1//EN\"\n  \"http://www.w3.org/Graphics/SVG/1.1/DTD/svg11.dtd\">\n<!-- Created with matplotlib (https://matplotlib.org/) -->\n<svg height=\"248.518125pt\" version=\"1.1\" viewBox=\"0 0 251.565 248.518125\" width=\"251.565pt\" xmlns=\"http://www.w3.org/2000/svg\" xmlns:xlink=\"http://www.w3.org/1999/xlink\">\n <defs>\n  <style type=\"text/css\">\n*{stroke-linecap:butt;stroke-linejoin:round;}\n  </style>\n </defs>\n <g id=\"figure_1\">\n  <g id=\"patch_1\">\n   <path d=\"M 0 248.518125 \nL 251.565 248.518125 \nL 251.565 0 \nL 0 0 \nz\n\" style=\"fill:none;\"/>\n  </g>\n  <g id=\"axes_1\">\n   <g id=\"patch_2\">\n    <path d=\"M 26.925 224.64 \nL 244.365 224.64 \nL 244.365 7.2 \nL 26.925 7.2 \nz\n\" style=\"fill:#ffffff;\"/>\n   </g>\n   <g clip-path=\"url(#p404eeb3620)\">\n    <image height=\"218\" id=\"image0d4246c362\" transform=\"scale(1 -1)translate(0 -218)\" width=\"218\" x=\"26.925\" xlink:href=\"data:image/png;base64,\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\" y=\"-6.64\"/>\n   </g>\n   <g id=\"matplotlib.axis_1\">\n    <g id=\"xtick_1\">\n     <g id=\"line2d_1\">\n      <defs>\n       <path d=\"M 0 0 \nL 0 3.5 \n\" id=\"mdd3dfc7e2c\" style=\"stroke:#000000;stroke-width:0.8;\"/>\n      </defs>\n      <g>\n       <use style=\"stroke:#000000;stroke-width:0.8;\" x=\"30.807857\" xlink:href=\"#mdd3dfc7e2c\" y=\"224.64\"/>\n      </g>\n     </g>\n     <g id=\"text_1\">\n      <!-- 0 -->\n      <defs>\n       <path d=\"M 31.78125 66.40625 \nQ 24.171875 66.40625 20.328125 58.90625 \nQ 16.5 51.421875 16.5 36.375 \nQ 16.5 21.390625 20.328125 13.890625 \nQ 24.171875 6.390625 31.78125 6.390625 \nQ 39.453125 6.390625 43.28125 13.890625 \nQ 47.125 21.390625 47.125 36.375 \nQ 47.125 51.421875 43.28125 58.90625 \nQ 39.453125 66.40625 31.78125 66.40625 \nz\nM 31.78125 74.21875 \nQ 44.046875 74.21875 50.515625 64.515625 \nQ 56.984375 54.828125 56.984375 36.375 \nQ 56.984375 17.96875 50.515625 8.265625 \nQ 44.046875 -1.421875 31.78125 -1.421875 \nQ 19.53125 -1.421875 13.0625 8.265625 \nQ 6.59375 17.96875 6.59375 36.375 \nQ 6.59375 54.828125 13.0625 64.515625 \nQ 19.53125 74.21875 31.78125 74.21875 \nz\n\" id=\"DejaVuSans-48\"/>\n      </defs>\n      <g transform=\"translate(27.626607 239.238437)scale(0.1 -0.1)\">\n       <use xlink:href=\"#DejaVuSans-48\"/>\n      </g>\n     </g>\n    </g>\n    <g id=\"xtick_2\">\n     <g id=\"line2d_2\">\n      <g>\n       <use style=\"stroke:#000000;stroke-width:0.8;\" x=\"69.636429\" xlink:href=\"#mdd3dfc7e2c\" y=\"224.64\"/>\n      </g>\n     </g>\n     <g id=\"text_2\">\n      <!-- 5 -->\n      <defs>\n       <path d=\"M 10.796875 72.90625 \nL 49.515625 72.90625 \nL 49.515625 64.59375 \nL 19.828125 64.59375 \nL 19.828125 46.734375 \nQ 21.96875 47.46875 24.109375 47.828125 \nQ 26.265625 48.1875 28.421875 48.1875 \nQ 40.625 48.1875 47.75 41.5 \nQ 54.890625 34.8125 54.890625 23.390625 \nQ 54.890625 11.625 47.5625 5.09375 \nQ 40.234375 -1.421875 26.90625 -1.421875 \nQ 22.3125 -1.421875 17.546875 -0.640625 \nQ 12.796875 0.140625 7.71875 1.703125 \nL 7.71875 11.625 \nQ 12.109375 9.234375 16.796875 8.0625 \nQ 21.484375 6.890625 26.703125 6.890625 \nQ 35.15625 6.890625 40.078125 11.328125 \nQ 45.015625 15.765625 45.015625 23.390625 \nQ 45.015625 31 40.078125 35.4375 \nQ 35.15625 39.890625 26.703125 39.890625 \nQ 22.75 39.890625 18.8125 39.015625 \nQ 14.890625 38.140625 10.796875 36.28125 \nz\n\" id=\"DejaVuSans-53\"/>\n      </defs>\n      <g transform=\"translate(66.455179 239.238437)scale(0.1 -0.1)\">\n       <use xlink:href=\"#DejaVuSans-53\"/>\n      </g>\n     </g>\n    </g>\n    <g id=\"xtick_3\">\n     <g id=\"line2d_3\">\n      <g>\n       <use style=\"stroke:#000000;stroke-width:0.8;\" x=\"108.465\" xlink:href=\"#mdd3dfc7e2c\" y=\"224.64\"/>\n      </g>\n     </g>\n     <g id=\"text_3\">\n      <!-- 10 -->\n      <defs>\n       <path d=\"M 12.40625 8.296875 \nL 28.515625 8.296875 \nL 28.515625 63.921875 \nL 10.984375 60.40625 \nL 10.984375 69.390625 \nL 28.421875 72.90625 \nL 38.28125 72.90625 \nL 38.28125 8.296875 \nL 54.390625 8.296875 \nL 54.390625 0 \nL 12.40625 0 \nz\n\" id=\"DejaVuSans-49\"/>\n      </defs>\n      <g transform=\"translate(102.1025 239.238437)scale(0.1 -0.1)\">\n       <use xlink:href=\"#DejaVuSans-49\"/>\n       <use x=\"63.623047\" xlink:href=\"#DejaVuSans-48\"/>\n      </g>\n     </g>\n    </g>\n    <g id=\"xtick_4\">\n     <g id=\"line2d_4\">\n      <g>\n       <use style=\"stroke:#000000;stroke-width:0.8;\" x=\"147.293571\" xlink:href=\"#mdd3dfc7e2c\" y=\"224.64\"/>\n      </g>\n     </g>\n     <g id=\"text_4\">\n      <!-- 15 -->\n      <g transform=\"translate(140.931071 239.238437)scale(0.1 -0.1)\">\n       <use xlink:href=\"#DejaVuSans-49\"/>\n       <use x=\"63.623047\" xlink:href=\"#DejaVuSans-53\"/>\n      </g>\n     </g>\n    </g>\n    <g id=\"xtick_5\">\n     <g id=\"line2d_5\">\n      <g>\n       <use style=\"stroke:#000000;stroke-width:0.8;\" x=\"186.122143\" xlink:href=\"#mdd3dfc7e2c\" y=\"224.64\"/>\n      </g>\n     </g>\n     <g id=\"text_5\">\n      <!-- 20 -->\n      <defs>\n       <path d=\"M 19.1875 8.296875 \nL 53.609375 8.296875 \nL 53.609375 0 \nL 7.328125 0 \nL 7.328125 8.296875 \nQ 12.9375 14.109375 22.625 23.890625 \nQ 32.328125 33.6875 34.8125 36.53125 \nQ 39.546875 41.84375 41.421875 45.53125 \nQ 43.3125 49.21875 43.3125 52.78125 \nQ 43.3125 58.59375 39.234375 62.25 \nQ 35.15625 65.921875 28.609375 65.921875 \nQ 23.96875 65.921875 18.8125 64.3125 \nQ 13.671875 62.703125 7.8125 59.421875 \nL 7.8125 69.390625 \nQ 13.765625 71.78125 18.9375 73 \nQ 24.125 74.21875 28.421875 74.21875 \nQ 39.75 74.21875 46.484375 68.546875 \nQ 53.21875 62.890625 53.21875 53.421875 \nQ 53.21875 48.921875 51.53125 44.890625 \nQ 49.859375 40.875 45.40625 35.40625 \nQ 44.1875 33.984375 37.640625 27.21875 \nQ 31.109375 20.453125 19.1875 8.296875 \nz\n\" id=\"DejaVuSans-50\"/>\n      </defs>\n      <g transform=\"translate(179.759643 239.238437)scale(0.1 -0.1)\">\n       <use xlink:href=\"#DejaVuSans-50\"/>\n       <use x=\"63.623047\" xlink:href=\"#DejaVuSans-48\"/>\n      </g>\n     </g>\n    </g>\n    <g id=\"xtick_6\">\n     <g id=\"line2d_6\">\n      <g>\n       <use style=\"stroke:#000000;stroke-width:0.8;\" x=\"224.950714\" xlink:href=\"#mdd3dfc7e2c\" y=\"224.64\"/>\n      </g>\n     </g>\n     <g id=\"text_6\">\n      <!-- 25 -->\n      <g transform=\"translate(218.588214 239.238437)scale(0.1 -0.1)\">\n       <use xlink:href=\"#DejaVuSans-50\"/>\n       <use x=\"63.623047\" xlink:href=\"#DejaVuSans-53\"/>\n      </g>\n     </g>\n    </g>\n   </g>\n   <g id=\"matplotlib.axis_2\">\n    <g id=\"ytick_1\">\n     <g id=\"line2d_7\">\n      <defs>\n       <path d=\"M 0 0 \nL -3.5 0 \n\" id=\"m6124fbcd39\" style=\"stroke:#000000;stroke-width:0.8;\"/>\n      </defs>\n      <g>\n       <use style=\"stroke:#000000;stroke-width:0.8;\" x=\"26.925\" xlink:href=\"#m6124fbcd39\" y=\"11.082857\"/>\n      </g>\n     </g>\n     <g id=\"text_7\">\n      <!-- 0 -->\n      <g transform=\"translate(13.5625 14.882076)scale(0.1 -0.1)\">\n       <use xlink:href=\"#DejaVuSans-48\"/>\n      </g>\n     </g>\n    </g>\n    <g id=\"ytick_2\">\n     <g id=\"line2d_8\">\n      <g>\n       <use style=\"stroke:#000000;stroke-width:0.8;\" x=\"26.925\" xlink:href=\"#m6124fbcd39\" y=\"49.911429\"/>\n      </g>\n     </g>\n     <g id=\"text_8\">\n      <!-- 5 -->\n      <g transform=\"translate(13.5625 53.710647)scale(0.1 -0.1)\">\n       <use xlink:href=\"#DejaVuSans-53\"/>\n      </g>\n     </g>\n    </g>\n    <g id=\"ytick_3\">\n     <g id=\"line2d_9\">\n      <g>\n       <use style=\"stroke:#000000;stroke-width:0.8;\" x=\"26.925\" xlink:href=\"#m6124fbcd39\" y=\"88.74\"/>\n      </g>\n     </g>\n     <g id=\"text_9\">\n      <!-- 10 -->\n      <g transform=\"translate(7.2 92.539219)scale(0.1 -0.1)\">\n       <use xlink:href=\"#DejaVuSans-49\"/>\n       <use x=\"63.623047\" xlink:href=\"#DejaVuSans-48\"/>\n      </g>\n     </g>\n    </g>\n    <g id=\"ytick_4\">\n     <g id=\"line2d_10\">\n      <g>\n       <use style=\"stroke:#000000;stroke-width:0.8;\" x=\"26.925\" xlink:href=\"#m6124fbcd39\" y=\"127.568571\"/>\n      </g>\n     </g>\n     <g id=\"text_10\">\n      <!-- 15 -->\n      <g transform=\"translate(7.2 131.36779)scale(0.1 -0.1)\">\n       <use xlink:href=\"#DejaVuSans-49\"/>\n       <use x=\"63.623047\" xlink:href=\"#DejaVuSans-53\"/>\n      </g>\n     </g>\n    </g>\n    <g id=\"ytick_5\">\n     <g id=\"line2d_11\">\n      <g>\n       <use style=\"stroke:#000000;stroke-width:0.8;\" x=\"26.925\" xlink:href=\"#m6124fbcd39\" y=\"166.397143\"/>\n      </g>\n     </g>\n     <g id=\"text_11\">\n      <!-- 20 -->\n      <g transform=\"translate(7.2 170.196362)scale(0.1 -0.1)\">\n       <use xlink:href=\"#DejaVuSans-50\"/>\n       <use x=\"63.623047\" xlink:href=\"#DejaVuSans-48\"/>\n      </g>\n     </g>\n    </g>\n    <g id=\"ytick_6\">\n     <g id=\"line2d_12\">\n      <g>\n       <use style=\"stroke:#000000;stroke-width:0.8;\" x=\"26.925\" xlink:href=\"#m6124fbcd39\" y=\"205.225714\"/>\n      </g>\n     </g>\n     <g id=\"text_12\">\n      <!-- 25 -->\n      <g transform=\"translate(7.2 209.024933)scale(0.1 -0.1)\">\n       <use xlink:href=\"#DejaVuSans-50\"/>\n       <use x=\"63.623047\" xlink:href=\"#DejaVuSans-53\"/>\n      </g>\n     </g>\n    </g>\n   </g>\n   <g id=\"patch_3\">\n    <path d=\"M 26.925 224.64 \nL 26.925 7.2 \n\" style=\"fill:none;stroke:#000000;stroke-linecap:square;stroke-linejoin:miter;stroke-width:0.8;\"/>\n   </g>\n   <g id=\"patch_4\">\n    <path d=\"M 244.365 224.64 \nL 244.365 7.2 \n\" style=\"fill:none;stroke:#000000;stroke-linecap:square;stroke-linejoin:miter;stroke-width:0.8;\"/>\n   </g>\n   <g id=\"patch_5\">\n    <path d=\"M 26.925 224.64 \nL 244.365 224.64 \n\" style=\"fill:none;stroke:#000000;stroke-linecap:square;stroke-linejoin:miter;stroke-width:0.8;\"/>\n   </g>\n   <g id=\"patch_6\">\n    <path d=\"M 26.925 7.2 \nL 244.365 7.2 \n\" style=\"fill:none;stroke:#000000;stroke-linecap:square;stroke-linejoin:miter;stroke-width:0.8;\"/>\n   </g>\n  </g>\n </g>\n <defs>\n  <clipPath id=\"p404eeb3620\">\n   <rect height=\"217.44\" width=\"217.44\" x=\"26.925\" y=\"7.2\"/>\n  </clipPath>\n </defs>\n</svg>\n",
      "image/png": "[encoded data removed]"
     },
     "metadata": {
      "needs_background": "light"
     }
    }
   ],
   "source": [
    "import matplotlib.pyplot as plt\n",
    "plt.imshow(train_images[0])"
   ]
  },
  {
   "cell_type": "code",
   "execution_count": 32,
   "metadata": {},
   "outputs": [],
   "source": [
    "''' Normalize data.\n",
    "    If we are training a neural network, for various reasons it's easier if we treat all values as between 0 and 1, a process          called 'normalizing'\n",
    "'''\n",
    "train_images = train_images / 255.0\n",
    "test_images = test_images / 255.0"
   ]
  },
  {
   "cell_type": "code",
   "execution_count": 33,
   "metadata": {},
   "outputs": [],
   "source": [
    "''' Build model. \n",
    "\n",
    "    Sequential: That defines a SEQUENCE of layers in the neural network\n",
    "    Flatten: Remember earlier where our images were a square, when you printed them out? Flatten just takes that square and turns               it into a 1 dimensional set.\n",
    "    Dense: Adds a layer of neurons\n",
    "\n",
    "    First layer: input of 28*28 images\n",
    "    Middle layer: filter(0~127) that takes 128 parameters so that when all shoe pictures are fed into them one by one,\n",
    "                  the combination of all parameters will produce an output value of correct class\n",
    "    Last layer: 10 ouput classes\n",
    "    This nn will acts like a filter that takes input of 28 by 28 and output 1 of 10 values.\n",
    "\n",
    "    The nn will be initialized with random (parameters) values, then improve by using loss function and optimizer.\n",
    "    Loss function: sees how good or bad the nn performed with the parameters\n",
    "    Optimizer: generate new parameters for the function to see whether it can do better\n",
    "\n",
    "    Activation: \n",
    "    relu = rectify linear unit\n",
    "           if (x>0){\n",
    "               return x;\n",
    "           } else {\n",
    "               return 0;\n",
    "           }\n",
    "    softmax : picking the biggest number from a set\n",
    "            : the output layer has 10 items in it, each representing the probability of each class\n",
    "            : instead of searching through the whole layer to find the greatest probability, \n",
    "              the softmax function sets it to 1 and others to 0\n",
    "'''\n",
    "\n",
    "model = keras.Sequential([\n",
    "                            keras.layers.Flatten(input_shape=(28, 28)),\n",
    "                            keras.layers.Dense(128, activation=tf.nn.relu),\n",
    "                            keras.layers.Dense(10, activation=tf.nn.softmax) \n",
    "                        ])\n",
    "\n",
    "model.compile(optimizer = tf.keras.optimizers.Adam(),\n",
    "              loss = 'sparse_categorical_crossentropy',\n",
    "              metrics=['accuracy'])"
   ]
  },
  {
   "cell_type": "code",
   "execution_count": 34,
   "metadata": {},
   "outputs": [
    {
     "output_type": "stream",
     "name": "stdout",
     "text": [
      "Epoch 1/5\n",
      "1875/1875 [==============================] - 3s 1ms/step - loss: 0.4977 - accuracy: 0.8249\n",
      "Epoch 2/5\n",
      "1875/1875 [==============================] - 3s 1ms/step - loss: 0.3742 - accuracy: 0.8639\n",
      "Epoch 3/5\n",
      "1875/1875 [==============================] - 3s 2ms/step - loss: 0.3377 - accuracy: 0.8773\n",
      "Epoch 4/5\n",
      "1875/1875 [==============================] - 3s 2ms/step - loss: 0.3147 - accuracy: 0.8829\n",
      "Epoch 5/5\n",
      "1875/1875 [==============================] - 3s 2ms/step - loss: 0.2971 - accuracy: 0.8902\n",
      "313/313 [==============================] - 1s 2ms/step - loss: 0.3462 - accuracy: 0.8722\n"
     ]
    }
   ],
   "source": [
    "''' Train model with train images & labels, and test it with test data. (Test data consists of test images and labels that the model hasn't seen)\n",
    "\n",
    "    epochs: a measure of the number of times all of the training vectors are used once to update the parameters\n",
    "\n",
    "\n",
    "'''\n",
    "model.fit(train_images, train_labels, epochs=5)\n",
    "test_loss, test_acc = model.evaluate(test_images, test_labels)\n",
    "prediction = model.predict(test_images)"
   ]
  },
  {
   "source": [
    "### Try predicting the class of test_images\n",
    "The output will be the probability that this test_images[0] is each of the 10 classes\n",
    "The 10th element on the output list is the biggest, so test_images[0] labelled 9\n"
   ],
   "cell_type": "markdown",
   "metadata": {}
  },
  {
   "source": [
    "classifications = model.predict(test_images)\n",
    "print(classifications[0])"
   ],
   "cell_type": "code",
   "metadata": {},
   "execution_count": 35,
   "outputs": [
    {
     "output_type": "stream",
     "name": "stdout",
     "text": [
      "[2.7844271e-07 1.9195147e-08 3.7464257e-08 1.2051518e-07 1.4066318e-07\n 2.2506926e-03 4.7513637e-07 2.8662372e-02 3.0298233e-05 9.6905553e-01]\n"
     ]
    }
   ]
  },
  {
   "source": [
    "### Effect of the number of neurons\n",
    "\n",
    "More neurons will cause training takes longer, but is more accurate\n",
    "That doesn't mean it's always a case of 'more is better'\n",
    "\n",
    "Eg:\n",
    "    model = tf.keras.models.Sequential([tf.keras.layers.Flatten(),\n",
    "                                tf.keras.layers.Dense(1024, activation=tf.nn.relu),\n",
    "                                tf.keras.layers.Dense(10, activation=tf.nn.softmax)])"
   ],
   "cell_type": "markdown",
   "metadata": {}
  },
  {
   "source": [
    "### Flatten layer & Last Dense layer(Output layer)\n",
    "\n",
    "If we remove the Flatten() layer from the model, \n",
    "then we'll get an error about the shape of the data.\n",
    "the first layer in your network should be the same shape as your data. \n",
    "Right now our data is 28x28 images, and 28 layers of 28 neurons would be infeasible, so it makes more sense to 'flatten' that      28,28 into a 784x1. Instead of wriitng all the code to handle that ourselves, we add the Flatten() layer at the begining, and      when the arrays are loaded into the model later, they'll automatically be flattened for us.\n",
    "\n",
    "Also, the number of neurons in the last layer should match the number of classes you are classifying for. In this case it's        the digits 0-9, so there are 10 of them, hence you should have 10 neurons in your final layer. If we change the output layer \n",
    "to only 5 neurons then we'll get error.\n"
   ],
   "cell_type": "markdown",
   "metadata": {}
  },
  {
   "source": [
    "### Effects of additional layers in the network. \n",
    "What will happen if you add another layer between the one with 512 and the final layer with 10?\n",
    "\n",
    "Ans: There isn't a significant impact -- because this is relatively simple data. For far more complex data (including color images to be classified as flowers that you'll see in the next lesson), extra layers are often necessary."
   ],
   "cell_type": "markdown",
   "metadata": {}
  }
 ]
}